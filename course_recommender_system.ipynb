{
 "cells": [
  {
   "cell_type": "code",
   "execution_count": 2,
   "metadata": {},
   "outputs": [
    {
     "name": "stdout",
     "output_type": "stream",
     "text": [
      "3.65\n"
     ]
    }
   ],
   "source": [
    "import numpy as np\n",
    "from scipy.sparse.linalg import lsmr\n",
    "\n",
    "m, n = 10, 5\n",
    "R_test = np.array([\n",
    "    [5.0, 4.0, 4.0, np.nan, 5.0],\n",
    "    [np.nan, 3.0, 5.0, 3.0, 4.0],\n",
    "    [5.0, 2.0, np.nan, 2.0, 3.0],\n",
    "    [np.nan, 2.0, 3.0, 1.0, 2.0],\n",
    "    [4.0, np.nan, 5.0, 4.0, 5.0],\n",
    "    [5.0, 3.0, np.nan, 3.0, 5.0],\n",
    "    [3.0, 2.0, 3.0, 2.0, np.nan],\n",
    "    [5.0, 3.0, 4.0, np.nan, 5.0],\n",
    "    [4.0, 2.0, 5.0, 4.0, np.nan],\n",
    "    [5.0, np.nan, 5.0, 3.0, 4.0]])\n",
    "\n",
    "\n",
    "R_train = np.array([\n",
    "    [5.0, 4.0, 4.0, np.nan, np.nan],\n",
    "    [np.nan, 3.0, 5.0, np.nan, 4.0],\n",
    "    [5.0, 2.0, np.nan, np.nan, 3.0],\n",
    "    [np.nan, np.nan, 3.0, 1.0, 2.0],\n",
    "    [4.0, np.nan, np.nan, 4.0, 5.0],\n",
    "    [np.nan, 3.0, np.nan, 3.0, 5.0],\n",
    "    [3.0, np.nan, 3.0, 2.0, np.nan],\n",
    "    [5.0, np.nan, 4.0, np.nan, 5.0],\n",
    "    [np.nan, 2.0, 5.0, 4.0, np.nan],\n",
    "    [np.nan, np.nan, 5.0, 3.0, 4.0]])\n",
    "\n",
    "mean = np.nanmean(R_test)\n",
    "print(mean)"
   ]
  },
  {
   "cell_type": "code",
   "execution_count": 3,
   "metadata": {
    "collapsed": true,
    "scrolled": false
   },
   "outputs": [],
   "source": [
    "c = []\n",
    "for j in range(n):\n",
    "    for i in range(m):\n",
    "        if not np.isnan(R_train[i][j]):\n",
    "            c.append(R_train[i][j] - mean)\n",
    "c = np.array(c)"
   ]
  },
  {
   "cell_type": "code",
   "execution_count": 4,
   "metadata": {
    "collapsed": true,
    "scrolled": false
   },
   "outputs": [],
   "source": [
    "A = np.zeros((len(c), m + n))\n",
    "count = 0\n",
    "for j in range(n):\n",
    "    for i in range(m):\n",
    "        if not np.isnan(R_train[i][j]):\n",
    "            A[count][i] = 1\n",
    "            A[count][m + j] = 1\n",
    "            count += 1"
   ]
  },
  {
   "cell_type": "markdown",
   "metadata": {},
   "source": [
    "# Baseline predictor (with regularization)"
   ]
  },
  {
   "cell_type": "code",
   "execution_count": 5,
   "metadata": {
    "scrolled": true
   },
   "outputs": [
    {
     "name": "stdout",
     "output_type": "stream",
     "text": [
      "[ 0.46061099  0.28519745 -0.2376656  -1.2960214   0.43111554  0.30016353\n",
      " -0.87060785  0.41614946  0.24844013  0.20397859]\n",
      "[ 0.59173307 -0.88445778  0.50028151 -0.55958139  0.29338544]\n"
     ]
    }
   ],
   "source": [
    "bu = lsmr(A, c, damp=1)[0][0:m]\n",
    "bi = lsmr(A, c, damp=1)[0][m:]\n",
    "print(bu)\n",
    "print(bi)"
   ]
  },
  {
   "cell_type": "code",
   "execution_count": 6,
   "metadata": {},
   "outputs": [
    {
     "data": {
      "text/plain": [
       "array([[ 4.70234406,  3.22615321,  4.61089251,  3.5510296 ,  4.40399643],\n",
       "       [ 4.52693052,  3.05073967,  4.43547896,  3.37561606,  4.22858289],\n",
       "       [ 4.00406747,  2.52787662,  3.91261591,  2.85275301,  3.70571984],\n",
       "       [ 2.94571167,  1.46952082,  2.85426012,  1.79439721,  2.64736404],\n",
       "       [ 4.67284861,  3.19665776,  4.58139705,  3.52153415,  4.37450098],\n",
       "       [ 4.5418966 ,  3.06570575,  4.45044505,  3.39058214,  4.24354897],\n",
       "       [ 3.37112522,  1.89493437,  3.27967366,  2.21981076,  3.07277759],\n",
       "       [ 4.65788253,  3.18169167,  4.56643097,  3.50656806,  4.35953489],\n",
       "       [ 4.4901732 ,  3.01398235,  4.39872165,  3.33885874,  4.19182557],\n",
       "       [ 4.44571166,  2.96952081,  4.35426011,  3.2943972 ,  4.14736403]])"
      ]
     },
     "execution_count": 6,
     "metadata": {},
     "output_type": "execute_result"
    }
   ],
   "source": [
    "# R_hat\n",
    "R_hat = np.zeros((m, n))\n",
    "for i in range(m):\n",
    "    for j in range(n):\n",
    "        R_hat[i][j] = mean + bu[i] + bi[j]\n",
    "        if R_hat[i][j] >= 5:\n",
    "            R_hat[i][j] = 5\n",
    "        if R_hat[i][j] <= 1:\n",
    "            R_hat[i][j] = 1\n",
    "R_hat"
   ]
  },
  {
   "cell_type": "code",
   "execution_count": 7,
   "metadata": {},
   "outputs": [
    {
     "data": {
      "text/plain": [
       "0.56393304764012153"
      ]
     },
     "execution_count": 7,
     "metadata": {},
     "output_type": "execute_result"
    }
   ],
   "source": [
    "# Training error\n",
    "error = []\n",
    "for i in range(m):\n",
    "    for j in range(n):\n",
    "        if not np.isnan(R_train[i][j]):\n",
    "            error.append((R_train[i][j] - R_hat[i][j]) ** 2)\n",
    "np.sqrt(np.mean(error))"
   ]
  },
  {
   "cell_type": "code",
   "execution_count": 8,
   "metadata": {},
   "outputs": [
    {
     "data": {
      "text/plain": [
       "0.49815124768594571"
      ]
     },
     "execution_count": 8,
     "metadata": {},
     "output_type": "execute_result"
    }
   ],
   "source": [
    "# Testing error\n",
    "error = []\n",
    "for i in range(m):\n",
    "    for j in range(n):\n",
    "        if not np.isnan(R_test[i][j]) and np.isnan(R_train[i][j]):\n",
    "            error.append((R_test[i][j] - R_hat[i][j]) ** 2)\n",
    "np.sqrt(np.mean(error))"
   ]
  },
  {
   "cell_type": "markdown",
   "metadata": {},
   "source": [
    "# Neighborhood model (with regularization)"
   ]
  },
  {
   "cell_type": "code",
   "execution_count": 10,
   "metadata": {
    "collapsed": true
   },
   "outputs": [],
   "source": [
    "from sklearn.metrics.pairwise import cosine_similarity as cs\n",
    "def cosine_similarity(a, b):\n",
    "    if a.shape != b.shape:\n",
    "        return\n",
    "    a_ = []\n",
    "    b_ = []\n",
    "    for i in range(len(a)):\n",
    "        if not np.isnan(a[i]) and not np.isnan(b[i]):\n",
    "            a_.append(a[i])\n",
    "            b_.append(b[i])\n",
    "    m = sum([a_[i] * b_[i] for i in range(len(a_))])\n",
    "    n = (sum([i ** 2 for i in a_]) * sum([i ** 2 for i in b_])) ** 0.5\n",
    "    return m / n"
   ]
  },
  {
   "cell_type": "code",
   "execution_count": 22,
   "metadata": {
    "collapsed": true
   },
   "outputs": [],
   "source": [
    "def find_neighbor(sims, i, threshould):\n",
    "    return [(sims[i][j], j) for j in range(len(sims[i])) if abs(sims[i][j]) >= threshould]"
   ]
  },
  {
   "cell_type": "code",
   "execution_count": 12,
   "metadata": {},
   "outputs": [
    {
     "data": {
      "text/plain": [
       "array([[ 0.29765594,  0.77384679, -0.61089251,         nan,         nan],\n",
       "       [        nan, -0.05073967,  0.56452104,         nan, -0.22858289],\n",
       "       [ 0.99593253, -0.52787662,         nan,         nan, -0.70571984],\n",
       "       [        nan,         nan,  0.14573988, -0.79439721, -0.64736404],\n",
       "       [-0.67284861,         nan,         nan,  0.47846585,  0.62549902],\n",
       "       [        nan, -0.06570575,         nan, -0.39058214,  0.75645103],\n",
       "       [-0.37112522,         nan, -0.27967366, -0.21981076,         nan],\n",
       "       [ 0.34211747,         nan, -0.56643097,         nan,  0.64046511],\n",
       "       [        nan, -1.01398235,  0.60127835,  0.66114126,         nan],\n",
       "       [        nan,         nan,  0.64573989, -0.2943972 , -0.14736403]])"
      ]
     },
     "execution_count": 12,
     "metadata": {},
     "output_type": "execute_result"
    }
   ],
   "source": [
    "R_tilda = np.zeros((m, n))\n",
    "for i in range(m):\n",
    "    for j in range(n):\n",
    "        if not np.isnan(R_train[i][j]):\n",
    "            R_tilda[i][j] = R_train[i][j] - mean - bu[i] - bi[j]\n",
    "R_tilda[R_tilda==0] = np.nan\n",
    "R_tilda"
   ]
  },
  {
   "cell_type": "code",
   "execution_count": 13,
   "metadata": {},
   "outputs": [
    {
     "data": {
      "text/plain": [
       "array([[ 1.        , -0.30336445, -0.52787214, -0.59406   , -0.63500842],\n",
       "       [-0.30336445,  1.        , -0.84801683, -0.82628642,  0.59070433],\n",
       "       [-0.52787214, -0.84801683,  1.        ,  0.14898616, -0.69054729],\n",
       "       [-0.59406   , -0.82628642,  0.14898616,  1.        ,  0.45191931],\n",
       "       [-0.63500842,  0.59070433, -0.69054729,  0.45191931,  1.        ]])"
      ]
     },
     "execution_count": 13,
     "metadata": {},
     "output_type": "execute_result"
    }
   ],
   "source": [
    "movie_similarities = np.zeros((n, n))\n",
    "for i in range(n):\n",
    "    for j in range(n):\n",
    "        movie_similarities[i][j] = cosine_similarity(R_tilda[:, i], R_tilda[:, j])\n",
    "movie_similarities"
   ]
  },
  {
   "cell_type": "code",
   "execution_count": 44,
   "metadata": {},
   "outputs": [
    {
     "data": {
      "text/plain": [
       "array([[ 1.        , -0.68739652, -0.11989561, -1.        , -1.        ,\n",
       "        -1.        ,  0.19121174,  0.99595697, -0.99116703, -1.        ],\n",
       "       [-0.68739652,  1.        ,  0.91153905,  0.56972604, -1.        ,\n",
       "        -0.95382402, -1.        , -0.89519492,  0.58500561,  0.98716847],\n",
       "       [-0.11989561,  0.91153905,  1.        ,  1.        , -0.99123876,\n",
       "        -0.74593327, -1.        , -0.12553501,  1.        ,  1.        ],\n",
       "       [-1.        ,  0.56972604,  1.        ,  1.        , -0.972738  ,\n",
       "        -0.20565976,  0.46592141, -0.87628689, -0.60625246,  0.56431635],\n",
       "       [-1.        , -1.        , -0.99123876, -0.972738  ,  1.        ,\n",
       "         0.42700255,  0.40587059,  0.25547255,  1.        , -0.89882792],\n",
       "       [-1.        , -0.95382402, -0.74593327, -0.20565976,  0.42700255,\n",
       "         1.        ,  1.        ,  1.        , -0.39964758,  0.01253267],\n",
       "       [ 0.19121174, -1.        , -1.        ,  0.46592141,  0.40587059,\n",
       "         1.        ,  1.        ,  0.10226455, -0.98614365, -0.45904813],\n",
       "       [ 0.99595697, -0.89519492, -0.12553501, -0.87628689,  0.25547255,\n",
       "         1.        ,  0.10226455,  1.        , -1.        , -0.81254183],\n",
       "       [-0.99116703,  0.58500561,  1.        , -0.60625246,  1.        ,\n",
       "        -0.39964758, -0.98614365, -1.        ,  1.        ,  0.3053056 ],\n",
       "       [-1.        ,  0.98716847,  1.        ,  0.56431635, -0.89882792,\n",
       "         0.01253267, -0.45904813, -0.81254183,  0.3053056 ,  1.        ]])"
      ]
     },
     "execution_count": 44,
     "metadata": {},
     "output_type": "execute_result"
    }
   ],
   "source": [
    "user_similarities = np.zeros((m, m))\n",
    "for i in range(m):\n",
    "    for j in range(m):\n",
    "        user_similarities[i][j] = cosine_similarity(R_tilda[i, :], R_tilda[j, :])\n",
    "user_similarities"
   ]
  },
  {
   "cell_type": "code",
   "execution_count": 67,
   "metadata": {},
   "outputs": [
    {
     "data": {
      "text/plain": [
       "array([[ 5.        ,  4.        ,  4.        ,  3.5510296 ,  4.40399643],\n",
       "       [ 4.52693052,  3.        ,  5.        ,  3.37561606,  4.        ],\n",
       "       [ 5.        ,  2.        ,  3.91261591,  2.85275301,  3.        ],\n",
       "       [ 2.94571167,  1.46952082,  3.        ,  1.        ,  2.        ],\n",
       "       [ 4.        ,  3.19665776,  4.58139705,  4.        ,  5.        ],\n",
       "       [ 4.5418966 ,  3.        ,  4.45044505,  3.        ,  5.        ],\n",
       "       [ 3.        ,  1.89493437,  3.        ,  2.        ,  3.07277759],\n",
       "       [ 5.        ,  3.18169167,  4.        ,  3.50656806,  5.        ],\n",
       "       [ 4.4901732 ,  2.        ,  5.        ,  4.        ,  4.19182557],\n",
       "       [ 4.44571166,  2.96952081,  5.        ,  3.        ,  4.        ]])"
      ]
     },
     "execution_count": 67,
     "metadata": {},
     "output_type": "execute_result"
    }
   ],
   "source": [
    "# R_hat using movie similarities\n",
    "R_hat = np.zeros((m, n))\n",
    "L = 0.95\n",
    "for i in range(m):\n",
    "    for j in range(n):\n",
    "        R_hat[i][j] += mean + bu[i] + bi[j]\n",
    "        neighbors = find_neighbor(movie_similarities, j, L)\n",
    "        a = 0\n",
    "        b = 0\n",
    "        for k in range(len(neighbors)):\n",
    "            if not np.isnan(R_tilda[i][neighbors[k][1]]):\n",
    "                a += neighbors[k][0] * R_tilda[i][neighbors[k][1]]\n",
    "                b += abs(neighbors[k][0])\n",
    "        if a != 0 and b != 0:\n",
    "            R_hat[i][j] += a / b\n",
    "        if R_hat[i][j] <= 1:\n",
    "            R_hat[i][j] = 1 \n",
    "        if R_hat[i][j] >= 5:\n",
    "                R_hat[i][j] = 5\n",
    "R_hat"
   ]
  },
  {
   "cell_type": "code",
   "execution_count": 68,
   "metadata": {},
   "outputs": [
    {
     "data": {
      "text/plain": [
       "3.1401849173675503e-16"
      ]
     },
     "execution_count": 68,
     "metadata": {},
     "output_type": "execute_result"
    }
   ],
   "source": [
    "# Training error\n",
    "error = []\n",
    "for i in range(m):\n",
    "    for j in range(n):\n",
    "        if not np.isnan(R_train[i][j]):\n",
    "            error.append((R_train[i][j] - R_hat[i][j]) ** 2)\n",
    "np.sqrt(np.mean(error))"
   ]
  },
  {
   "cell_type": "code",
   "execution_count": 69,
   "metadata": {},
   "outputs": [
    {
     "data": {
      "text/plain": [
       "0.49815124768594571"
      ]
     },
     "execution_count": 69,
     "metadata": {},
     "output_type": "execute_result"
    }
   ],
   "source": [
    "# Testing error\n",
    "error = []\n",
    "for i in range(m):\n",
    "    for j in range(n):\n",
    "        if not np.isnan(R_test[i][j]) and np.isnan(R_train[i][j]):\n",
    "            error.append((R_test[i][j] - R_hat[i][j]) ** 2)\n",
    "np.sqrt(np.mean(error))"
   ]
  },
  {
   "cell_type": "code",
   "execution_count": 96,
   "metadata": {},
   "outputs": [
    {
     "data": {
      "text/plain": [
       "array([[ 5.        ,  3.23226024,  5.        ,  2.91241509,  4.95479037],\n",
       "       [ 4.96459997,  3.0568467 ,  4.85358691,  2.73700154,  4.77937683],\n",
       "       [ 4.44173692,  2.53398365,  4.33072386,  2.21413849,  4.25651378],\n",
       "       [ 3.38338112,  1.47562785,  3.27236806,  1.1557827 ,  3.19815798],\n",
       "       [ 5.        ,  3.20276479,  4.999505  ,  2.88291963,  4.92529492],\n",
       "       [ 4.97956605,  3.07181278,  4.86855299,  2.75196763,  4.79434291],\n",
       "       [ 3.80879466,  1.90104139,  3.69778161,  1.58119624,  3.62357152],\n",
       "       [ 5.        ,  3.1877987 ,  4.98453892,  2.86795355,  4.91032883],\n",
       "       [ 4.92784265,  3.02008938,  4.81682959,  2.70024423,  4.74261951],\n",
       "       [ 4.88338111,  2.97562784,  4.77236805,  2.65578269,  4.69815797]])"
      ]
     },
     "execution_count": 96,
     "metadata": {},
     "output_type": "execute_result"
    }
   ],
   "source": [
    "# R_hat using user similarities\n",
    "R_hat = np.zeros((m, n))\n",
    "L = 0.95\n",
    "for i in range(m):\n",
    "    for j in range(n):\n",
    "        R_hat[i][j] += mean + bu[i] + bi[j]\n",
    "        neighbors = find_neighbor(user_similarities, j, L)\n",
    "        a = 0\n",
    "        b = 0\n",
    "        for k in range(len(neighbors)):\n",
    "            if not np.isnan(R_tilda[neighbors[k][1]][j]):\n",
    "                a += neighbors[k][0] * R_tilda[neighbors[k][1]][j]\n",
    "                b += abs(neighbors[k][0])\n",
    "        if a != 0 and b != 0:\n",
    "            R_hat[i][j] += a / b\n",
    "        if R_hat[i][j] <= 1:\n",
    "            R_hat[i][j] = 1 \n",
    "        if R_hat[i][j] >= 5:\n",
    "                R_hat[i][j] = 5\n",
    "R_hat"
   ]
  },
  {
   "cell_type": "code",
   "execution_count": 97,
   "metadata": {},
   "outputs": [
    {
     "data": {
      "text/plain": [
       "0.68334052283219149"
      ]
     },
     "execution_count": 97,
     "metadata": {},
     "output_type": "execute_result"
    }
   ],
   "source": [
    "# Training error\n",
    "error = []\n",
    "for i in range(m):\n",
    "    for j in range(n):\n",
    "        if not np.isnan(R_train[i][j]):\n",
    "            error.append((R_train[i][j] - R_hat[i][j]) ** 2)\n",
    "np.sqrt(np.mean(error))"
   ]
  },
  {
   "cell_type": "code",
   "execution_count": 98,
   "metadata": {},
   "outputs": [
    {
     "data": {
      "text/plain": [
       "0.36221601889657457"
      ]
     },
     "execution_count": 98,
     "metadata": {},
     "output_type": "execute_result"
    }
   ],
   "source": [
    "# Testing error\n",
    "error = []\n",
    "for i in range(m):\n",
    "    for j in range(n):\n",
    "        if not np.isnan(R_test[i][j]) and np.isnan(R_train[i][j]):\n",
    "            error.append((R_test[i][j] - R_hat[i][j]) ** 2)\n",
    "np.sqrt(np.mean(error))"
   ]
  },
  {
   "cell_type": "code",
   "execution_count": null,
   "metadata": {
    "collapsed": true
   },
   "outputs": [],
   "source": []
  }
 ],
 "metadata": {
  "kernelspec": {
   "display_name": "Python 3",
   "language": "python",
   "name": "python3"
  },
  "language_info": {
   "codemirror_mode": {
    "name": "ipython",
    "version": 3
   },
   "file_extension": ".py",
   "mimetype": "text/x-python",
   "name": "python",
   "nbconvert_exporter": "python",
   "pygments_lexer": "ipython3",
   "version": "3.6.1"
  }
 },
 "nbformat": 4,
 "nbformat_minor": 2
}
