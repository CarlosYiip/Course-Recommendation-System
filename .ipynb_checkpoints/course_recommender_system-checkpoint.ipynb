{
 "cells": [
  {
   "cell_type": "code",
   "execution_count": 72,
   "metadata": {},
   "outputs": [
    {
     "name": "stdout",
     "output_type": "stream",
     "text": [
      "3.65\n"
     ]
    }
   ],
   "source": [
    "import numpy as np\n",
    "m, n = 10, 5\n",
    "R_test = np.array([\n",
    "    [5.0, 4.0, 4.0, np.nan, 5.0],\n",
    "    [np.nan, 3.0, 5.0, 3.0, 4.0],\n",
    "    [5.0, 2.0, np.nan, 2.0, 3.0],\n",
    "    [np.nan, 2.0, 3.0, 1.0, 2.0],\n",
    "    [4.0, np.nan, 5.0, 4.0, 5.0],\n",
    "    [5.0, 3.0, np.nan, 3.0, 5.0],\n",
    "    [3.0, 2.0, 3.0, 2.0, np.nan],\n",
    "    [5.0, 3.0, 4.0, np.nan, 5.0],\n",
    "    [4.0, 2.0, 5.0, 4.0, np.nan],\n",
    "    [5.0, np.nan, 5.0, 3.0, 4.0]])\n",
    "\n",
    "\n",
    "R_train = np.array([\n",
    "    [5.0, 4.0, 4.0, np.nan, np.nan],\n",
    "    [np.nan, 3.0, 5.0, np.nan, 4.0],\n",
    "    [5.0, 2.0, np.nan, np.nan, 3.0],\n",
    "    [np.nan, np.nan, 3.0, 1.0, 2.0],\n",
    "    [4.0, np.nan, np.nan, 4.0, 5.0],\n",
    "    [np.nan, 3.0, np.nan, 3.0, 5.0],\n",
    "    [3.0, np.nan, 3.0, 2.0, np.nan],\n",
    "    [5.0, np.nan, 4.0, np.nan, 5.0],\n",
    "    [np.nan, 2.0, 5.0, 4.0, np.nan],\n",
    "    [np.nan, np.nan, 5.0, 3.0, 4.0]])\n",
    "\n",
    "mean = np.nanmean(R_test)\n",
    "print(mean)"
   ]
  },
  {
   "cell_type": "code",
   "execution_count": 73,
   "metadata": {
    "collapsed": true,
    "scrolled": false
   },
   "outputs": [],
   "source": [
    "c = []\n",
    "for j in range(n):\n",
    "    for i in range(m):\n",
    "        if not np.isnan(R_train[i][j]):\n",
    "            c.append(R_train[i][j] - mean )\n",
    "c = np.array(c)"
   ]
  },
  {
   "cell_type": "code",
   "execution_count": 74,
   "metadata": {
    "collapsed": true,
    "scrolled": false
   },
   "outputs": [],
   "source": [
    "A = np.zeros((len(c), m + n))\n",
    "count = 0\n",
    "for j in range(n):\n",
    "    for i in range(m):\n",
    "        if not np.isnan(R_train[i][j]):\n",
    "            A[count][i] = 1\n",
    "            A[count][m + j] = 1\n",
    "            count += 1"
   ]
  },
  {
   "cell_type": "markdown",
   "metadata": {},
   "source": [
    "# Baseline predictor (without regularization)"
   ]
  },
  {
   "cell_type": "code",
   "execution_count": 75,
   "metadata": {
    "scrolled": true
   },
   "outputs": [
    {
     "name": "stdout",
     "output_type": "stream",
     "text": [
      "[ 0.63148148  0.4290404  -0.27592593 -1.76919192  0.52584175  0.49806397\n",
      " -1.23341751  0.45681818  0.40547138  0.23080808]\n",
      "[ 0.7290404  -1.18762626  0.61414141 -0.59292929  0.33636364]\n"
     ]
    }
   ],
   "source": [
    "import scipy\n",
    "bu = np.linalg.lstsq(A, c)[0][0:m]\n",
    "bi = np.linalg.lstsq(A, c)[0][m:]\n",
    "print(bu)\n",
    "print(bi)"
   ]
  },
  {
   "cell_type": "code",
   "execution_count": 76,
   "metadata": {},
   "outputs": [
    {
     "data": {
      "text/plain": [
       "array([[ 5.        ,  3.09385522,  4.8956229 ,  3.68855219,  4.61784512],\n",
       "       [ 4.80808081,  2.89141414,  4.69318182,  3.48611111,  4.41540404],\n",
       "       [ 4.10311448,  2.18644781,  3.98821549,  2.78114478,  3.71043771],\n",
       "       [ 2.60984848,  1.        ,  2.49494949,  1.28787879,  2.21717172],\n",
       "       [ 4.90488215,  2.98821549,  4.78998316,  3.58291246,  4.51220539],\n",
       "       [ 4.87710438,  2.96043771,  4.76220539,  3.55513468,  4.48442761],\n",
       "       [ 3.1456229 ,  1.22895623,  3.03072391,  1.8236532 ,  2.75294613],\n",
       "       [ 4.83585859,  2.91919192,  4.7209596 ,  3.51388889,  4.44318182],\n",
       "       [ 4.78451178,  2.86784512,  4.66961279,  3.46254209,  4.39183502],\n",
       "       [ 4.60984848,  2.69318182,  4.49494949,  3.28787879,  4.21717172]])"
      ]
     },
     "execution_count": 76,
     "metadata": {},
     "output_type": "execute_result"
    }
   ],
   "source": [
    "# R_hat\n",
    "R_hat = np.zeros((m, n))\n",
    "for i in range(m):\n",
    "    for j in range(n):\n",
    "        R_hat[i][j] = mean + bu[i] + bi[j]\n",
    "        if R_hat[i][j] >= 5:\n",
    "            R_hat[i][j] = 5\n",
    "        if R_hat[i][j] <= 1:\n",
    "            R_hat[i][j] = 1\n",
    "R_hat"
   ]
  },
  {
   "cell_type": "code",
   "execution_count": 77,
   "metadata": {},
   "outputs": [
    {
     "data": {
      "text/plain": [
       "0.51261768724663193"
      ]
     },
     "execution_count": 77,
     "metadata": {},
     "output_type": "execute_result"
    }
   ],
   "source": [
    "# Training error\n",
    "error = []\n",
    "for i in range(m):\n",
    "    for j in range(n):\n",
    "        if not np.isnan(R_train[i][j]):\n",
    "            error.append((R_train[i][j] - R_hat[i][j]) ** 2)\n",
    "np.sqrt(np.mean(error))"
   ]
  },
  {
   "cell_type": "code",
   "execution_count": 78,
   "metadata": {},
   "outputs": [
    {
     "data": {
      "text/plain": [
       "0.53159585510217144"
      ]
     },
     "execution_count": 78,
     "metadata": {},
     "output_type": "execute_result"
    }
   ],
   "source": [
    "# Testing error\n",
    "error = []\n",
    "for i in range(m):\n",
    "    for j in range(n):\n",
    "        if not np.isnan(R_test[i][j]):\n",
    "            error.append((R_test[i][j] - R_hat[i][j]) ** 2)\n",
    "np.sqrt(np.mean(error))"
   ]
  },
  {
   "cell_type": "markdown",
   "metadata": {},
   "source": [
    "# Neighborhood model (without regularization)"
   ]
  },
  {
   "cell_type": "code",
   "execution_count": 79,
   "metadata": {
    "collapsed": true
   },
   "outputs": [],
   "source": [
    "from sklearn.metrics.pairwise import cosine_similarity as cs\n",
    "def cosine_similarity(a, b):\n",
    "    if a.shape != b.shape:\n",
    "        return\n",
    "    a_ = []\n",
    "    b_ = []\n",
    "    for i in range(len(a)):\n",
    "        if not np.isnan(a[i]) and not np.isnan(b[i]):\n",
    "            a_.append(a[i])\n",
    "            b_.append(b[i])\n",
    "    m = sum([a_[i] * b_[i] for i in range(len(a_))])\n",
    "    n = (sum([i ** 2 for i in a_]) * sum([i ** 2 for i in b_])) ** 0.5\n",
    "    return m / n\n",
    "\n",
    "def find_neighbor(movie_similarities, i, L):\n",
    "    tmp = [(movie_similarities[i][j], j) for j in range(len(movie_similarities[i])) if j != i]\n",
    "    tmp.sort(reverse=True, key=lambda x: abs(x[0]))\n",
    "    return tmp[:L]"
   ]
  },
  {
   "cell_type": "code",
   "execution_count": 80,
   "metadata": {},
   "outputs": [
    {
     "data": {
      "text/plain": [
       "array([[-0.01052189,  0.90614478, -0.8956229 ,         nan,         nan],\n",
       "       [        nan,  0.10858586,  0.30681818,         nan, -0.41540404],\n",
       "       [ 0.89688552, -0.18644781,         nan,         nan, -0.71043771],\n",
       "       [        nan,         nan,  0.50505051, -0.28787879, -0.21717172],\n",
       "       [-0.90488215,         nan,         nan,  0.41708754,  0.48779461],\n",
       "       [        nan,  0.03956229,         nan, -0.55513468,  0.51557239],\n",
       "       [-0.1456229 ,         nan, -0.03072391,  0.1763468 ,         nan],\n",
       "       [ 0.16414141,         nan, -0.7209596 ,         nan,  0.55681818],\n",
       "       [        nan, -0.86784512,  0.33038721,  0.53745791,         nan],\n",
       "       [        nan,         nan,  0.50505051, -0.28787879, -0.21717172]])"
      ]
     },
     "execution_count": 80,
     "metadata": {},
     "output_type": "execute_result"
    }
   ],
   "source": [
    "R_tilda = np.zeros((m, n))\n",
    "for i in range(m):\n",
    "    for j in range(n):\n",
    "        if not np.isnan(R_train[i][j]):\n",
    "            R_tilda[i][j] = R_train[i][j] - mean - bu[i] - bi[j]\n",
    "R_tilda[R_tilda==0] = np.nan\n",
    "R_tilda"
   ]
  },
  {
   "cell_type": "code",
   "execution_count": 81,
   "metadata": {},
   "outputs": [
    {
     "data": {
      "text/plain": [
       "array([[ 1.        , -0.21301359, -0.41335723, -0.97123137, -0.74899568],\n",
       "       [-0.21301359,  1.        , -0.84334288, -0.72757202,  0.505802  ],\n",
       "       [-0.41335723, -0.84334288,  1.        , -0.21614403, -0.92916674],\n",
       "       [-0.97123137, -0.72757202, -0.21614403,  1.        ,  0.06791977],\n",
       "       [-0.74899568,  0.505802  , -0.92916674,  0.06791977,  1.        ]])"
      ]
     },
     "execution_count": 81,
     "metadata": {},
     "output_type": "execute_result"
    }
   ],
   "source": [
    "movie_similarities = np.zeros((n, n))\n",
    "for i in range(n):\n",
    "    for j in range(n):\n",
    "        movie_similarities[i][j] = cosine_similarity(R_tilda[:, i], R_tilda[:, j])\n",
    "movie_similarities"
   ]
  },
  {
   "cell_type": "code",
   "execution_count": 82,
   "metadata": {},
   "outputs": [
    {
     "data": {
      "text/plain": [
       "array([[ 5.        ,  3.98947811,  3.98947811,  3.30647949,  5.        ],\n",
       "       [ 5.        ,  2.58459596,  4.85927655,  3.37752525,  4.10858586],\n",
       "       [ 4.81355219,  2.18644781,  4.44934389,  2.34823468,  2.81355219],\n",
       "       [ 2.86694105,  1.        ,  2.71212121,  1.28787879,  1.71212121],\n",
       "       [ 4.45700839,  2.57112795,  4.30218855,  4.48779461,  5.        ],\n",
       "       [ 4.96604771,  3.51557239,  4.47311398,  3.51557239,  4.48442761],\n",
       "       [ 2.96927609,  1.16377497,  3.03072391,  1.96927609,  2.83495163],\n",
       "       [ 4.2790404 ,  3.64015152,  4.16414141,  3.34974747,  4.76910407],\n",
       "       [ 4.24705387,  2.44155275,  5.        ,  4.33038721,  4.06144781],\n",
       "       [ 4.86694105,  2.55537792,  4.71212121,  3.28787879,  3.71212121]])"
      ]
     },
     "execution_count": 82,
     "metadata": {},
     "output_type": "execute_result"
    }
   ],
   "source": [
    "# R_hat\n",
    "R_hat = np.zeros((m, n))\n",
    "L = 2\n",
    "for i in range(m):\n",
    "    for j in range(n):\n",
    "        R_hat[i][j] += mean + bu[i] + bi[j]\n",
    "        neighbors = find_neighbor(movie_similarities, j, L)\n",
    "        a = 0\n",
    "        b = 0\n",
    "        for k in range(len(neighbors)):\n",
    "            if not np.isnan(R_tilda[i][neighbors[k][1]]):\n",
    "                a += neighbors[k][0] * R_tilda[i][neighbors[k][1]]\n",
    "                b += abs(neighbors[k][0])\n",
    "        if a != 0 and b != 0:\n",
    "            R_hat[i][j] += a / b\n",
    "        if R_hat[i][j] <= 1:\n",
    "            R_hat[i][j] = 1 \n",
    "        if R_hat[i][j] >= 5:\n",
    "                R_hat[i][j] = 5\n",
    "R_hat"
   ]
  },
  {
   "cell_type": "code",
   "execution_count": 83,
   "metadata": {},
   "outputs": [
    {
     "data": {
      "text/plain": [
       "0.31396118989196564"
      ]
     },
     "execution_count": 83,
     "metadata": {},
     "output_type": "execute_result"
    }
   ],
   "source": [
    "# Training error\n",
    "error = []\n",
    "for i in range(m):\n",
    "    for j in range(n):\n",
    "        if not np.isnan(R_train[i][j]):\n",
    "            error.append((R_train[i][j] - R_hat[i][j]) ** 2)\n",
    "np.sqrt(np.mean(error))"
   ]
  },
  {
   "cell_type": "code",
   "execution_count": 84,
   "metadata": {},
   "outputs": [
    {
     "data": {
      "text/plain": [
       "0.38395448005987165"
      ]
     },
     "execution_count": 84,
     "metadata": {},
     "output_type": "execute_result"
    }
   ],
   "source": [
    "# Testing error\n",
    "error = []\n",
    "for i in range(m):\n",
    "    for j in range(n):\n",
    "        if not np.isnan(R_test[i][j]):\n",
    "            error.append((R_test[i][j] - R_hat[i][j]) ** 2)\n",
    "np.sqrt(np.mean(error))"
   ]
  },
  {
   "cell_type": "code",
   "execution_count": null,
   "metadata": {
    "collapsed": true
   },
   "outputs": [],
   "source": []
  },
  {
   "cell_type": "markdown",
   "metadata": {},
   "source": [
    "# Baseline predictor (with regularization)"
   ]
  },
  {
   "cell_type": "code",
   "execution_count": 85,
   "metadata": {},
   "outputs": [
    {
     "name": "stdout",
     "output_type": "stream",
     "text": [
      "[ 0.53279828  0.3434698  -0.25882283 -1.49968523  0.47681866  0.38106955\n",
      " -1.02382381  0.43921891  0.31309182  0.21951245]\n",
      "[ 0.65278932 -1.0130432   0.5507899  -0.58042937  0.31354094]\n"
     ]
    }
   ],
   "source": [
    "from scipy.sparse.linalg import lsmr\n",
    "bu = lsmr(A, c, damp=0.7)[0][0:m]\n",
    "bi = lsmr(A, c, damp=0.7)[0][m:]\n",
    "print(bu)\n",
    "print(bi)"
   ]
  },
  {
   "cell_type": "code",
   "execution_count": 86,
   "metadata": {},
   "outputs": [
    {
     "data": {
      "text/plain": [
       "array([[ 4.8355876 ,  3.16975508,  4.73358818,  3.6023689 ,  4.49633921],\n",
       "       [ 4.64625912,  2.9804266 ,  4.54425971,  3.41304043,  4.30701074],\n",
       "       [ 4.0439665 ,  2.37813398,  3.94196708,  2.8107478 ,  3.70471811],\n",
       "       [ 2.80310409,  1.13727157,  2.70110467,  1.56988539,  2.4638557 ],\n",
       "       [ 4.77960798,  3.11377547,  4.67760857,  3.54638929,  4.4403596 ],\n",
       "       [ 4.68385888,  3.01802636,  4.58185946,  3.45064018,  4.34461049],\n",
       "       [ 3.27896551,  1.61313299,  3.17696609,  2.04574682,  2.93971713],\n",
       "       [ 4.74200823,  3.07617571,  4.64000881,  3.50878954,  4.40275985],\n",
       "       [ 4.61588114,  2.95004862,  4.51388172,  3.38266244,  4.27663275],\n",
       "       [ 4.52230177,  2.85646925,  4.42030235,  3.28908307,  4.18305339]])"
      ]
     },
     "execution_count": 86,
     "metadata": {},
     "output_type": "execute_result"
    }
   ],
   "source": [
    "# R_hat\n",
    "R_hat = np.zeros((m, n))\n",
    "for i in range(m):\n",
    "    for j in range(n):\n",
    "        R_hat[i][j] = mean + bu[i] + bi[j]\n",
    "        if R_hat[i][j] >= 5:\n",
    "            R_hat[i][j] = 5\n",
    "        if R_hat[i][j] <= 1:\n",
    "            R_hat[i][j] = 1\n",
    "R_hat"
   ]
  },
  {
   "cell_type": "code",
   "execution_count": 87,
   "metadata": {},
   "outputs": [
    {
     "data": {
      "text/plain": [
       "0.52967381128831903"
      ]
     },
     "execution_count": 87,
     "metadata": {},
     "output_type": "execute_result"
    }
   ],
   "source": [
    "# Training error\n",
    "error = []\n",
    "for i in range(m):\n",
    "    for j in range(n):\n",
    "        if not np.isnan(R_train[i][j]):\n",
    "            error.append((R_train[i][j] - R_hat[i][j]) ** 2)\n",
    "np.sqrt(np.mean(error))"
   ]
  },
  {
   "cell_type": "code",
   "execution_count": 88,
   "metadata": {},
   "outputs": [
    {
     "data": {
      "text/plain": [
       "0.5293716736950409"
      ]
     },
     "execution_count": 88,
     "metadata": {},
     "output_type": "execute_result"
    }
   ],
   "source": [
    "# Testing error\n",
    "error = []\n",
    "for i in range(m):\n",
    "    for j in range(n):\n",
    "        if not np.isnan(R_test[i][j]):\n",
    "            error.append((R_test[i][j] - R_hat[i][j]) ** 2)\n",
    "np.sqrt(np.mean(error))"
   ]
  },
  {
   "cell_type": "markdown",
   "metadata": {},
   "source": [
    "# Neighborhood model (with regularization)"
   ]
  },
  {
   "cell_type": "code",
   "execution_count": 89,
   "metadata": {
    "collapsed": true
   },
   "outputs": [],
   "source": [
    "from sklearn.metrics.pairwise import cosine_similarity as cs\n",
    "def cosine_similarity(a, b):\n",
    "    if a.shape != b.shape:\n",
    "        return\n",
    "    a_ = []\n",
    "    b_ = []\n",
    "    for i in range(len(a)):\n",
    "        if not np.isnan(a[i]) and not np.isnan(b[i]):\n",
    "            a_.append(a[i])\n",
    "            b_.append(b[i])\n",
    "    m = sum([a_[i] * b_[i] for i in range(len(a_))])\n",
    "    n = (sum([i ** 2 for i in a_]) * sum([i ** 2 for i in b_])) ** 0.5\n",
    "    return m / n\n",
    "\n",
    "def find_neighbor(movie_similarities, i, L):\n",
    "    tmp = [(movie_similarities[i][j], j) for j in range(len(movie_similarities[i])) if j != i]\n",
    "    tmp.sort(reverse=True, key=lambda x: abs(x[0]))\n",
    "    return tmp[:L]"
   ]
  },
  {
   "cell_type": "code",
   "execution_count": 90,
   "metadata": {},
   "outputs": [
    {
     "data": {
      "text/plain": [
       "array([[ 1.        , -0.25424624, -0.57695792, -0.90297969, -0.70229018],\n",
       "       [-0.25424624,  1.        , -0.84920421, -0.79636666,  0.6493644 ],\n",
       "       [-0.57695792, -0.84920421,  1.        , -0.04013037, -0.89791815],\n",
       "       [-0.90297969, -0.79636666, -0.04013037,  1.        ,  0.30638918],\n",
       "       [-0.70229018,  0.6493644 , -0.89791815,  0.30638918,  1.        ]])"
      ]
     },
     "execution_count": 90,
     "metadata": {},
     "output_type": "execute_result"
    }
   ],
   "source": [
    "R_tilda = np.zeros((m, n))\n",
    "for i in range(m):\n",
    "    for j in range(n):\n",
    "        if not np.isnan(R_train[i][j]):\n",
    "            R_tilda[i][j] = R_train[i][j] - mean - bu[i] - bi[j]\n",
    "R_tilda[R_tilda==0] = np.nan\n",
    "R_tilda\n",
    "\n",
    "movie_similarities = np.zeros((n, n))\n",
    "for i in range(n):\n",
    "    for j in range(n):\n",
    "        movie_similarities[i][j] = cosine_similarity(R_tilda[:, i], R_tilda[:, j])\n",
    "movie_similarities"
   ]
  },
  {
   "cell_type": "code",
   "execution_count": 91,
   "metadata": {},
   "outputs": [
    {
     "data": {
      "text/plain": [
       "array([[ 4.8355876 ,  3.90334326,  3.90334326,  3.12592664,  4.83581809],\n",
       "       [ 4.95326986,  2.52468631,  4.69253135,  3.39346703,  3.85127044],\n",
       "       [ 4.74868461,  2.37813398,  4.4879461 ,  2.47994676,  2.74868461],\n",
       "       [ 3.32660251,  1.25881878,  3.16496037,  1.56988539,  2.16496037],\n",
       "       [ 4.2796103 ,  2.66016475,  4.11796817,  4.32599727,  5.        ],\n",
       "       [ 4.65062167,  3.46866654,  4.25378966,  3.46866654,  4.34461049],\n",
       "       [ 3.32471233,  1.7265961 ,  3.17696609,  2.32471233,  3.16144814],\n",
       "       [ 4.14476808,  3.71618453,  4.04276866,  3.25079777,  4.64865936],\n",
       "       [ 3.99854358,  2.40042736,  5.        ,  4.33271106,  3.79051447],\n",
       "       [ 4.76499787,  2.69721415,  4.60335574,  3.28908307,  3.60335574]])"
      ]
     },
     "execution_count": 91,
     "metadata": {},
     "output_type": "execute_result"
    }
   ],
   "source": [
    "# R_hat\n",
    "R_hat = np.zeros((m, n))\n",
    "L = 2\n",
    "for i in range(m):\n",
    "    for j in range(n):\n",
    "        R_hat[i][j] += mean + bu[i] + bi[j]\n",
    "        neighbors = find_neighbor(movie_similarities, j, L)\n",
    "        a = 0\n",
    "        b = 0\n",
    "        for k in range(len(neighbors)):\n",
    "            if not np.isnan(R_tilda[i][neighbors[k][1]]):\n",
    "                a += neighbors[k][0] * R_tilda[i][neighbors[k][1]]\n",
    "                b += abs(neighbors[k][0])\n",
    "        if a != 0 and b != 0:\n",
    "            R_hat[i][j] += a / b\n",
    "        if R_hat[i][j] <= 1:\n",
    "            R_hat[i][j] = 1 \n",
    "        if R_hat[i][j] >= 5:\n",
    "                R_hat[i][j] = 5\n",
    "R_hat"
   ]
  },
  {
   "cell_type": "code",
   "execution_count": 92,
   "metadata": {},
   "outputs": [
    {
     "data": {
      "text/plain": [
       "0.35861901465212359"
      ]
     },
     "execution_count": 92,
     "metadata": {},
     "output_type": "execute_result"
    }
   ],
   "source": [
    "# Training error\n",
    "error = []\n",
    "for i in range(m):\n",
    "    for j in range(n):\n",
    "        if not np.isnan(R_train[i][j]):\n",
    "            error.append((R_train[i][j] - R_hat[i][j]) ** 2)\n",
    "np.sqrt(np.mean(error))"
   ]
  },
  {
   "cell_type": "code",
   "execution_count": 93,
   "metadata": {},
   "outputs": [
    {
     "data": {
      "text/plain": [
       "0.39883085002588275"
      ]
     },
     "execution_count": 93,
     "metadata": {},
     "output_type": "execute_result"
    }
   ],
   "source": [
    "# Testing error\n",
    "error = []\n",
    "for i in range(m):\n",
    "    for j in range(n):\n",
    "        if not np.isnan(R_test[i][j]):\n",
    "            error.append((R_test[i][j] - R_hat[i][j]) ** 2)\n",
    "np.sqrt(np.mean(error))"
   ]
  },
  {
   "cell_type": "code",
   "execution_count": null,
   "metadata": {
    "collapsed": true
   },
   "outputs": [],
   "source": []
  }
 ],
 "metadata": {
  "kernelspec": {
   "display_name": "Python 3",
   "language": "python",
   "name": "python3"
  },
  "language_info": {
   "codemirror_mode": {
    "name": "ipython",
    "version": 3
   },
   "file_extension": ".py",
   "mimetype": "text/x-python",
   "name": "python",
   "nbconvert_exporter": "python",
   "pygments_lexer": "ipython3",
   "version": "3.6.1"
  }
 },
 "nbformat": 4,
 "nbformat_minor": 2
}
