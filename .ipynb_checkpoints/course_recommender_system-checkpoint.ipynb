{
 "cells": [
  {
   "cell_type": "markdown",
   "metadata": {},
   "source": [
    "# Course recommendation system"
   ]
  },
  {
   "cell_type": "code",
   "execution_count": 8,
   "metadata": {
    "collapsed": true
   },
   "outputs": [],
   "source": [
    "import pandas as pd\n",
    "import numpy as np\n",
    "import random as rd\n",
    "import scipy as sp"
   ]
  },
  {
   "cell_type": "code",
   "execution_count": 9,
   "metadata": {
    "collapsed": true
   },
   "outputs": [],
   "source": [
    "def convert_data_to_R_test(data):\n",
    "    m = max(set(data[\"Student_number\"]))\n",
    "    n = max(set(data[\"Course_number\"]))\n",
    "    R_test = np.zeros((m+1, n+1))\n",
    "    for k in data.index:\n",
    "        i, j, score = data.loc[k][[\"Student_number\", \"Course_number\", \"q12\"]]\n",
    "        R_test[i, j] = score\n",
    "    R_test[R_test==0] = np.nan\n",
    "    return R_test"
   ]
  },
  {
   "cell_type": "code",
   "execution_count": 10,
   "metadata": {
    "collapsed": true
   },
   "outputs": [],
   "source": [
    "def get_R_train(percentage):\n",
    "    m, n = R_test.shape\n",
    "    R_train = R_test.copy()\n",
    "    l = []\n",
    "    for i in range(m):\n",
    "        for j in range(n):\n",
    "            if not np.isnan(R_test[i, j]):\n",
    "                l.append((i, j))\n",
    "    l = rd.sample(l, int(len(l) * (1 - percentage)))\n",
    "    \n",
    "    for (i, j) in l:\n",
    "        R_train[i, j] = np.nan\n",
    "    return R_train"
   ]
  },
  {
   "cell_type": "code",
   "execution_count": 11,
   "metadata": {
    "collapsed": true
   },
   "outputs": [],
   "source": [
    "def calculate_bu_bi_mean():\n",
    "    mean = np.nanmean(R_train)\n",
    "    m, n = R_train.shape\n",
    "    c = []\n",
    "    for j in range(n):\n",
    "        for i in range(m):\n",
    "            if not np.isnan(R_train[i][j]):\n",
    "                c.append(R_train[i][j] - mean)\n",
    "    c = np.array(c)\n",
    "\n",
    "    A = np.zeros((len(c), m + n))\n",
    "    count = 0\n",
    "    for j in range(n):\n",
    "        for i in range(m):\n",
    "            if not np.isnan(R_train[i][j]):\n",
    "                A[count][i] = 1\n",
    "                A[count][m + j] = 1\n",
    "                count += 1\n",
    "                \n",
    "    bu = sp.sparse.linalg.lsmr(A, c, damp=1)[0][0:m]\n",
    "    bi = sp.sparse.linalg.lsmr(A, c, damp=1)[0][m:]\n",
    "    \n",
    "    return bu, bi, mean"
   ]
  },
  {
   "cell_type": "code",
   "execution_count": 12,
   "metadata": {
    "collapsed": true
   },
   "outputs": [],
   "source": [
    "def get_R_tilda():\n",
    "    m, n = R_train.shape\n",
    "    R_tilda = np.zeros((m, n))\n",
    "    for i in range(m):\n",
    "        for j in range(n):\n",
    "            if not np.isnan(R_train[i][j]):\n",
    "                R_tilda[i][j] = R_train[i][j] - mean - bu[i] - bi[j]\n",
    "    R_tilda[R_tilda==0] = np.nan\n",
    "    return R_tilda"
   ]
  },
  {
   "cell_type": "code",
   "execution_count": 13,
   "metadata": {
    "collapsed": true
   },
   "outputs": [],
   "source": [
    "from sklearn.metrics.pairwise import cosine_similarity\n",
    "def calculate_student_similarities():\n",
    "    R_tilda_sparse = sp.sparse.csr_matrix(np.nan_to_num(R_tilda))\n",
    "    return cosine_similarity(R_tilda_sparse, dense_output=False)"
   ]
  },
  {
   "cell_type": "code",
   "execution_count": 14,
   "metadata": {
    "collapsed": true
   },
   "outputs": [],
   "source": [
    "from sklearn.metrics.pairwise import cosine_similarity\n",
    "def calculate_course_similarities():\n",
    "    R_tilda_sparse = sp.sparse.csr_matrix(np.nan_to_num(R_tilda))\n",
    "    return cosine_similarity(R_tilda_sparse.transpose(), dense_output=False)"
   ]
  },
  {
   "cell_type": "code",
   "execution_count": 15,
   "metadata": {
    "collapsed": true
   },
   "outputs": [],
   "source": [
    "def get_R_hat():\n",
    "    # R_hat using user similarities\n",
    "    m, n = R_tilda.shape\n",
    "    R_hat = np.zeros((m, n))\n",
    "    for i in range(m):\n",
    "        neighbors = student_similarities[i].nonzero()[1]\n",
    "        neighbors = sorted(neighbors, key=lambda k: student_similarities[i, k])[:10]\n",
    "        for j in range(n):\n",
    "            R_hat[i][j] += mean + bu[i] + bi[j]\n",
    "            a = 0\n",
    "            b = 0\n",
    "            for k in neighbors:\n",
    "                if not np.isnan(R_tilda[k][j]):\n",
    "                    a += student_similarities[i, k] * R_tilda[k][j]\n",
    "                    b += abs(k)\n",
    "            if a != 0 and b != 0:\n",
    "                R_hat[i][j] += a / b\n",
    "                if R_hat[i][j] <= 1:\n",
    "                    R_hat[i][j] = 1 \n",
    "                if R_hat[i][j] >= 5:\n",
    "                    R_hat[i][j] = 5\n",
    "    return R_hat"
   ]
  },
  {
   "cell_type": "code",
   "execution_count": 26,
   "metadata": {
    "collapsed": true
   },
   "outputs": [],
   "source": [
    "def train_error():\n",
    "    m, n = R_train.shape\n",
    "    error = []\n",
    "    for i in range(m):\n",
    "        for j in range(n):\n",
    "            if not np.isnan(R_train[i][j]):\n",
    "                error.append((R_train[i][j] - R_hat[i][j]) ** 2)\n",
    "    return np.sqrt(np.mean(error))"
   ]
  },
  {
   "cell_type": "code",
   "execution_count": 43,
   "metadata": {},
   "outputs": [],
   "source": [
    "def test_error():\n",
    "    m, n = R_train.shape\n",
    "    error = []\n",
    "    for i in range(m):\n",
    "        for j in range(n):\n",
    "            if not np.isnan(R_test[i][j]) and np.isnan(R_train[i][j]):\n",
    "                error.append((R_test[i][j] - R_hat[i][j]) ** 2)\n",
    "    return np.sqrt(np.mean(error))"
   ]
  },
  {
   "cell_type": "code",
   "execution_count": null,
   "metadata": {
    "collapsed": true
   },
   "outputs": [],
   "source": []
  },
  {
   "cell_type": "code",
   "execution_count": null,
   "metadata": {
    "collapsed": true
   },
   "outputs": [],
   "source": []
  },
  {
   "cell_type": "code",
   "execution_count": null,
   "metadata": {
    "collapsed": true
   },
   "outputs": [],
   "source": []
  },
  {
   "cell_type": "code",
   "execution_count": 18,
   "metadata": {
    "scrolled": true
   },
   "outputs": [],
   "source": [
    "data = pd.read_csv(\"cse_anonymized.csv\", sep='\\t', header=None)\n",
    "data.columns = [\n",
    "    \"Student_number\", \"Session\", \"Course_number\", \"Mark\", \"Grade\",\n",
    "    \"q1\", \"q2\", \"q3\", \"q4\", \"q5\", \"q6\", \"q7\", \"q8\", \"q9\", \"q10\", \"q11\", \"q12\"]\n",
    "\n",
    "R_test = convert_data_to_R_test(data)"
   ]
  },
  {
   "cell_type": "code",
   "execution_count": 19,
   "metadata": {},
   "outputs": [
    {
     "data": {
      "text/plain": [
       "(6025, 137)"
      ]
     },
     "execution_count": 19,
     "metadata": {},
     "output_type": "execute_result"
    }
   ],
   "source": [
    "R_test.shape"
   ]
  },
  {
   "cell_type": "code",
   "execution_count": 20,
   "metadata": {
    "collapsed": true
   },
   "outputs": [],
   "source": [
    "R_train = get_R_train(0.8)"
   ]
  },
  {
   "cell_type": "code",
   "execution_count": 21,
   "metadata": {
    "collapsed": true,
    "scrolled": true
   },
   "outputs": [],
   "source": [
    "bu, bi, mean = calculate_bu_bi_mean()"
   ]
  },
  {
   "cell_type": "code",
   "execution_count": 29,
   "metadata": {
    "collapsed": true
   },
   "outputs": [],
   "source": [
    "R_tilda = get_R_tilda()"
   ]
  },
  {
   "cell_type": "code",
   "execution_count": 45,
   "metadata": {
    "collapsed": true
   },
   "outputs": [],
   "source": [
    "student_similarities = calculate_student_similarities()"
   ]
  },
  {
   "cell_type": "code",
   "execution_count": 40,
   "metadata": {
    "collapsed": true,
    "scrolled": true
   },
   "outputs": [],
   "source": [
    "R_hat = get_R_hat()"
   ]
  },
  {
   "cell_type": "code",
   "execution_count": 30,
   "metadata": {},
   "outputs": [
    {
     "data": {
      "text/plain": [
       "0.89825782949947897"
      ]
     },
     "execution_count": 30,
     "metadata": {},
     "output_type": "execute_result"
    }
   ],
   "source": [
    "train_error()"
   ]
  },
  {
   "cell_type": "code",
   "execution_count": 44,
   "metadata": {},
   "outputs": [
    {
     "data": {
      "text/plain": [
       "1.0712255487595741"
      ]
     },
     "execution_count": 44,
     "metadata": {},
     "output_type": "execute_result"
    }
   ],
   "source": [
    "test_error()"
   ]
  },
  {
   "cell_type": "code",
   "execution_count": null,
   "metadata": {},
   "outputs": [],
   "source": []
  },
  {
   "cell_type": "code",
   "execution_count": null,
   "metadata": {
    "collapsed": true
   },
   "outputs": [],
   "source": []
  },
  {
   "cell_type": "code",
   "execution_count": null,
   "metadata": {
    "collapsed": true
   },
   "outputs": [],
   "source": []
  },
  {
   "cell_type": "code",
   "execution_count": null,
   "metadata": {
    "collapsed": true
   },
   "outputs": [],
   "source": []
  },
  {
   "cell_type": "code",
   "execution_count": null,
   "metadata": {
    "collapsed": true
   },
   "outputs": [],
   "source": []
  },
  {
   "cell_type": "code",
   "execution_count": null,
   "metadata": {
    "collapsed": true
   },
   "outputs": [],
   "source": []
  }
 ],
 "metadata": {
  "kernelspec": {
   "display_name": "Python 3",
   "language": "python",
   "name": "python3"
  },
  "language_info": {
   "codemirror_mode": {
    "name": "ipython",
    "version": 3
   },
   "file_extension": ".py",
   "mimetype": "text/x-python",
   "name": "python",
   "nbconvert_exporter": "python",
   "pygments_lexer": "ipython3",
   "version": "3.6.1"
  }
 },
 "nbformat": 4,
 "nbformat_minor": 2
}
